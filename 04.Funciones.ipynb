{
 "cells": [
  {
   "cell_type": "markdown",
   "metadata": {},
   "source": [
    "## Funciones\n",
    "\n",
    "Las funciones en programación son simplemente bloques de código que sirven para hacer más legible y sencillo programar cosas. Al igual que en matemáticas, pueden tomar parámetros de entrada y tener parámetros de salida."
   ]
  },
  {
   "cell_type": "code",
   "execution_count": null,
   "metadata": {},
   "outputs": [],
   "source": [
    "def f(x):\n",
    "    return x**2"
   ]
  },
  {
   "cell_type": "code",
   "execution_count": null,
   "metadata": {},
   "outputs": [],
   "source": [
    "f(3)"
   ]
  },
  {
   "cell_type": "code",
   "execution_count": null,
   "metadata": {},
   "outputs": [],
   "source": [
    "f(-1)"
   ]
  },
  {
   "cell_type": "code",
   "execution_count": null,
   "metadata": {},
   "outputs": [],
   "source": [
    "def g():\n",
    "    return \"Yo no hago nada interesante.\""
   ]
  },
  {
   "cell_type": "code",
   "execution_count": null,
   "metadata": {},
   "outputs": [],
   "source": [
    "a=g()"
   ]
  },
  {
   "cell_type": "code",
   "execution_count": null,
   "metadata": {},
   "outputs": [],
   "source": [
    "a"
   ]
  },
  {
   "cell_type": "code",
   "execution_count": null,
   "metadata": {},
   "outputs": [],
   "source": [
    "print(g())"
   ]
  },
  {
   "cell_type": "code",
   "execution_count": null,
   "metadata": {},
   "outputs": [],
   "source": [
    "def sumar(a,b):\n",
    "    return a+b"
   ]
  },
  {
   "cell_type": "code",
   "execution_count": null,
   "metadata": {},
   "outputs": [],
   "source": [
    "sumar(5,\"daf\")"
   ]
  },
  {
   "cell_type": "code",
   "execution_count": null,
   "metadata": {},
   "outputs": [],
   "source": [
    "def antonio(x,f):\n",
    "    return f(x+2)"
   ]
  },
  {
   "cell_type": "code",
   "execution_count": null,
   "metadata": {},
   "outputs": [],
   "source": [
    "antonio(5,f)"
   ]
  },
  {
   "cell_type": "code",
   "execution_count": null,
   "metadata": {},
   "outputs": [],
   "source": [
    "def h(n):\n",
    "    for i in range(n):\n",
    "        if i==5:\n",
    "            return \"Llegue a 5\"\n",
    "    print(f\"Llegué a {n} sin pasar por 5.\")"
   ]
  },
  {
   "cell_type": "code",
   "execution_count": null,
   "metadata": {},
   "outputs": [],
   "source": [
    "h(4)"
   ]
  },
  {
   "cell_type": "code",
   "execution_count": null,
   "metadata": {},
   "outputs": [],
   "source": [
    "g"
   ]
  },
  {
   "cell_type": "code",
   "execution_count": null,
   "metadata": {},
   "outputs": [],
   "source": [
    "type(g) == type(5)"
   ]
  },
  {
   "cell_type": "code",
   "execution_count": null,
   "metadata": {},
   "outputs": [],
   "source": [
    "type(\"5\")"
   ]
  },
  {
   "cell_type": "code",
   "execution_count": null,
   "metadata": {},
   "outputs": [],
   "source": [
    "h(\"hola\")"
   ]
  },
  {
   "cell_type": "code",
   "execution_count": null,
   "metadata": {},
   "outputs": [],
   "source": [
    "print(h(1000000))"
   ]
  },
  {
   "cell_type": "code",
   "execution_count": null,
   "metadata": {},
   "outputs": [],
   "source": [
    "def son_todos_distintos(a,b,c):\n",
    "    if a==b or a==c or b==c:\n",
    "        return False\n",
    "    else:\n",
    "        return True"
   ]
  },
  {
   "cell_type": "code",
   "execution_count": null,
   "metadata": {},
   "outputs": [],
   "source": [
    "son_todos_distintos(1,2,3)"
   ]
  },
  {
   "cell_type": "code",
   "execution_count": null,
   "metadata": {},
   "outputs": [],
   "source": [
    "son_todos_distintos(2,2,3)"
   ]
  },
  {
   "cell_type": "code",
   "execution_count": null,
   "metadata": {},
   "outputs": [],
   "source": [
    "son_todos_distintos(\"hola\",\"hola\",\"adios\")"
   ]
  },
  {
   "cell_type": "markdown",
   "metadata": {},
   "source": [
    "Una vez que llegas a un \"return\", ya nada más se ejecuta."
   ]
  },
  {
   "cell_type": "code",
   "execution_count": null,
   "metadata": {},
   "outputs": [],
   "source": [
    "def son_todos_distintos(a,b,c):\n",
    "    if a==b or a==c or b==c:\n",
    "        return False\n",
    "    #print(\"Esto no se ejecuta si hay dos iguales\")\n",
    "    return True"
   ]
  },
  {
   "cell_type": "code",
   "execution_count": null,
   "metadata": {},
   "outputs": [],
   "source": [
    "son_todos_distintos(2,2,3)"
   ]
  },
  {
   "cell_type": "markdown",
   "metadata": {},
   "source": [
    "Las variables adentro de las funciones son locales, no interactúan con las variables exteriores."
   ]
  },
  {
   "cell_type": "code",
   "execution_count": null,
   "metadata": {},
   "outputs": [],
   "source": [
    "a=5"
   ]
  },
  {
   "cell_type": "code",
   "execution_count": null,
   "metadata": {},
   "outputs": [],
   "source": [
    "def cambia_a():\n",
    "    a=0\n",
    "    print(a)"
   ]
  },
  {
   "cell_type": "code",
   "execution_count": null,
   "metadata": {},
   "outputs": [],
   "source": [
    "cambia_a()"
   ]
  },
  {
   "cell_type": "code",
   "execution_count": null,
   "metadata": {},
   "outputs": [],
   "source": [
    "a"
   ]
  },
  {
   "cell_type": "markdown",
   "metadata": {},
   "source": [
    "No hagan esto, pero las funciones pueden accesar a variables que se definieron afuera de ellas.\n",
    "\n",
    "En realidad el problema no es accesar variables que se definieron fuera, sino de hecho definir variables fuera (globales)."
   ]
  },
  {
   "cell_type": "code",
   "execution_count": null,
   "metadata": {},
   "outputs": [],
   "source": [
    "def imprime_a():\n",
    "    print(a)"
   ]
  },
  {
   "cell_type": "code",
   "execution_count": null,
   "metadata": {},
   "outputs": [],
   "source": [
    "imprime_a()"
   ]
  },
  {
   "cell_type": "markdown",
   "metadata": {},
   "source": [
    "Cosas definidas dentro de un bloque de código sólo sirven dentro de ese mismo bloque de código"
   ]
  },
  {
   "cell_type": "code",
   "execution_count": null,
   "metadata": {},
   "outputs": [],
   "source": [
    "def define_aaa():\n",
    "    aaa=5"
   ]
  },
  {
   "cell_type": "code",
   "execution_count": null,
   "metadata": {},
   "outputs": [],
   "source": [
    "define_aaa()"
   ]
  },
  {
   "cell_type": "code",
   "execution_count": null,
   "metadata": {},
   "outputs": [],
   "source": [
    "aaa"
   ]
  },
  {
   "cell_type": "code",
   "execution_count": null,
   "metadata": {},
   "outputs": [],
   "source": [
    "def hola():\n",
    "    return 5, 8"
   ]
  },
  {
   "cell_type": "code",
   "execution_count": null,
   "metadata": {},
   "outputs": [],
   "source": [
    "a=hola()"
   ]
  },
  {
   "cell_type": "code",
   "execution_count": null,
   "metadata": {},
   "outputs": [],
   "source": [
    "a"
   ]
  },
  {
   "cell_type": "markdown",
   "metadata": {},
   "source": [
    "## Argumentos predeterminados"
   ]
  },
  {
   "cell_type": "code",
   "execution_count": null,
   "metadata": {},
   "outputs": [],
   "source": [
    "def multiplica(a,b=1):\n",
    "    return a*b"
   ]
  },
  {
   "cell_type": "code",
   "execution_count": null,
   "metadata": {},
   "outputs": [],
   "source": [
    "multiplica(4,5)"
   ]
  },
  {
   "cell_type": "code",
   "execution_count": null,
   "metadata": {},
   "outputs": [],
   "source": [
    "multiplica(3)"
   ]
  },
  {
   "cell_type": "code",
   "execution_count": null,
   "metadata": {},
   "outputs": [],
   "source": [
    "multiplica(b=2,a=8)"
   ]
  },
  {
   "cell_type": "code",
   "execution_count": null,
   "metadata": {},
   "outputs": [],
   "source": [
    "plot(funcion, variable, rango=(0,1), color=\"negro\", grosor=1, tipo_de_linea)"
   ]
  },
  {
   "cell_type": "code",
   "execution_count": null,
   "metadata": {},
   "outputs": [],
   "source": [
    "plot(sin,x,grosor=3,color='azul')"
   ]
  },
  {
   "cell_type": "markdown",
   "metadata": {},
   "source": [
    "## Ejercicios\n",
    "\n",
    "1. Haz una función que cuente cuántas veces ocurre una letra dada en un string.\n",
    "2. Volver a hacer Collatz definiendo funciones adecuadas.\n",
    "2. Volver a hacer Primos definiendo funciones adecuadas. En particular, hacer una función: \"es_primo(n)\" que responda verdadero o falso.\n",
    "3. Haz una función que calcule exponentes (sin usar **).\n",
    "4. Haz la misma función pero que para elevar a la $n$ solamente haga como $\\log_2(n)$ operaciones.\n",
    "5. Haz un programa que cuente en binario hasta $n$."
   ]
  },
  {
   "cell_type": "code",
   "execution_count": null,
   "metadata": {},
   "outputs": [],
   "source": [
    "n=22\n",
    "def siguiente(s):\n",
    "    if len(s)==0:\n",
    "        return '1'\n",
    "    if s[-1]=='0':\n",
    "        return s[:-1]+'1'\n",
    "    return siguiente(s[:-1])+'0'\n",
    "s='0'\n",
    "for i in range(n):\n",
    "    s=siguiente(s)\n",
    "    print(s)"
   ]
  },
  {
   "cell_type": "code",
   "execution_count": null,
   "metadata": {},
   "outputs": [],
   "source": [
    "def siguiente(s):\n",
    "    for i in range(len(s)):\n",
    "        if s[i] == 0:\n",
    "            s[i] = 1\n",
    "            break\n",
    "        else:\n",
    "            s[i] = 0\n",
    "    return s"
   ]
  },
  {
   "cell_type": "code",
   "execution_count": null,
   "metadata": {},
   "outputs": [],
   "source": [
    "a = [0,0,0,0,0]\n",
    "for i in range(10):\n",
    "    print(\"\".join([str(x) for x in a]).rstrip(\"0\"))\n",
    "    a = siguiente(a)"
   ]
  },
  {
   "cell_type": "markdown",
   "metadata": {},
   "source": [
    "## Llamar funciones\n"
   ]
  },
  {
   "cell_type": "markdown",
   "metadata": {},
   "source": [
    "## Llamando funciones recursivamente\n",
    "\n",
    "Una función se puede llamar a si misma."
   ]
  },
  {
   "cell_type": "code",
   "execution_count": null,
   "metadata": {},
   "outputs": [],
   "source": [
    "def factorial(n):\n",
    "    if n == 0:\n",
    "        return 1\n",
    "    return n*factorial(n-1)"
   ]
  },
  {
   "cell_type": "markdown",
   "metadata": {},
   "source": [
    "Claro, hay que tener cuidado!"
   ]
  },
  {
   "cell_type": "code",
   "execution_count": null,
   "metadata": {},
   "outputs": [],
   "source": [
    "def fibonacci(n):\n",
    "    if n < 2:\n",
    "        return n\n",
    "    return fibonacci(n-1) + fibonacci(n-2)\n",
    "    "
   ]
  },
  {
   "cell_type": "code",
   "execution_count": null,
   "metadata": {},
   "outputs": [],
   "source": [
    "fibonacci(3)"
   ]
  },
  {
   "cell_type": "markdown",
   "metadata": {},
   "source": [
    "Lo siguiente es increíblemente lento. ¿Por qué?"
   ]
  },
  {
   "cell_type": "code",
   "execution_count": null,
   "metadata": {},
   "outputs": [],
   "source": [
    "fibonacci(40)"
   ]
  },
  {
   "cell_type": "markdown",
   "metadata": {},
   "source": [
    "Lo siguiente, sin embaro, es muy rápido. ¿Por qué?"
   ]
  },
  {
   "cell_type": "code",
   "execution_count": null,
   "metadata": {},
   "outputs": [],
   "source": [
    "def fibonacci_rapido(n):\n",
    "    a,b = 0,1\n",
    "    for i in range(n-1):\n",
    "        a,b = b, a+b\n",
    "    return b"
   ]
  },
  {
   "cell_type": "code",
   "execution_count": null,
   "metadata": {},
   "outputs": [],
   "source": [
    "fibonacci_rapido(40)"
   ]
  },
  {
   "cell_type": "markdown",
   "metadata": {},
   "source": [
    "## Filosofía\n",
    "\n",
    "Cada función debería tener una y **sólo una** tarea. Por ejemplo, si tienes una función que calcula algo, que no lo imprima. Si tu función se llama \"imprimir_nesimo_numero_fibonacci\", entonces esa función sólo debería imprimirlo, NO debería calcularlo. Puede llamar a otra función que lo calcule."
   ]
  },
  {
   "cell_type": "markdown",
   "metadata": {},
   "source": [
    "# Ahora unos de hackerrank"
   ]
  },
  {
   "cell_type": "markdown",
   "metadata": {},
   "source": [
    "# Best Divisor\n",
    "\n",
    "Kristen loves playing with and comparing numbers. She thinks that if she takes two different positive numbers, the one whose digits sum to a larger number is better than the other. If the sum of digits is equal for both numbers, then she thinks the smaller number is better. For example, Kristen thinks that $13$ is better than $31 and that $12$ is better than $11$.\n",
    "\n",
    "Given an integer $n$ can you find the divisor of $n$ that Kristin will consider to be the best?\n",
    "\n",
    "### Input Format\n",
    "\n",
    "A single integer denoting $n$.\n",
    "\n",
    "### Constraints\n",
    "\n",
    "$0<n\\le 10^5$\n",
    "\n",
    "### Output Format\n",
    "\n",
    "Print an integer denoting the best divisor of $n$.\n",
    "\n",
    "### Sample Input 0\n",
    "\n",
    "`12`\n",
    "\n",
    "### Sample Output 0\n",
    "\n",
    "`6`\n",
    "\n",
    "### Explanation 0\n",
    "\n",
    "The set of divisors of $12$ can be expressed as $\\{1,2,3,4,6,12\\}$. The divisor whose digits sum to the largest number is $6$ (which, having only one digit, sums to itself). Thus, we print $6$ as our answer."
   ]
  },
  {
   "cell_type": "markdown",
   "metadata": {},
   "source": [
    "# Summing the N series \n",
    "\n",
    "You are given a sequence whose $n$th term is\n",
    "\n",
    "$T_n=n^2-(n-1)^2$\n",
    "\n",
    "You have to evaluate the series\n",
    "\n",
    "$S_n=T_1+\\dots +T_n$\n",
    "\n",
    "Finde $S_n \\mod (10^9+7)$.\n",
    "\n",
    "### Input Format\n",
    "\n",
    "The first line of input contains $T$, the number of test cases.\n",
    "Each test case consists of one line containing a single integer $n$. \n",
    "\n",
    "### Constraints\n",
    "\n",
    "$1\\le T\\le 10$\n",
    "$1\\le n\\le 10^16$\n",
    "\n",
    "### Output Format\n",
    "\n",
    "For each test case, print the required answer in a line.\n",
    "\n",
    "### Sample Input 0\n",
    "\n",
    "`2\n",
    "2\n",
    "1`\n",
    "\n",
    "### Sample Output 0\n",
    "\n",
    "`4\n",
    "1`\n",
    "\n",
    "### Explanation 0\n",
    "\n",
    "Case 1: We have $4=1+3$\n",
    "\n",
    "Case 2: We have $1=1"
   ]
  },
  {
   "cell_type": "code",
   "execution_count": null,
   "metadata": {},
   "outputs": [],
   "source": []
  }
 ],
 "metadata": {
  "kernelspec": {
   "display_name": "Python 3",
   "language": "python",
   "name": "python3"
  },
  "language_info": {
   "codemirror_mode": {
    "name": "ipython",
    "version": 3
   },
   "file_extension": ".py",
   "mimetype": "text/x-python",
   "name": "python",
   "nbconvert_exporter": "python",
   "pygments_lexer": "ipython3",
   "version": "3.8.1"
  }
 },
 "nbformat": 4,
 "nbformat_minor": 4
}
